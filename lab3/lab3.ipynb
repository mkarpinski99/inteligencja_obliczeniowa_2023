{
 "cells": [
  {
   "cell_type": "markdown",
   "metadata": {},
   "source": [
    "Zadanie 1. a-b"
   ]
  },
  {
   "cell_type": "code",
   "execution_count": 5,
   "metadata": {},
   "outputs": [
    {
     "name": "stderr",
     "output_type": "stream",
     "text": [
      "2023-10-28 14:31:21,057 - pyswarms.single.global_best - INFO - Optimize for 1000 iters with {'c1': 0.5, 'c2': 0.3, 'w': 0.9}\n",
      "pyswarms.single.global_best: 100%|██████████|1000/1000, best_cost=2.01\n",
      "2023-10-28 14:31:23,187 - pyswarms.single.global_best - INFO - Optimization finished | best cost: 2.0146928158498216, best pos: [1.00006152 1.00725854]\n"
     ]
    },
    {
     "data": {
      "text/plain": [
       "(2.0146928158498216, array([1.00006152, 1.00725854]))"
      ]
     },
     "execution_count": 5,
     "metadata": {},
     "output_type": "execute_result"
    }
   ],
   "source": [
    "import pyswarms as ps \n",
    "from pyswarms.utils.functions import single_obj as fx \n",
    " \n",
    "options = {'c1': 0.5, 'c2': 0.3, 'w':0.9} \n",
    "x_max = [2, 2]\n",
    "x_min = [1, 1]\n",
    "my_bounds = (x_min, x_max)\n",
    "\n",
    "\n",
    "optimizer = ps.single.GlobalBestPSO(n_particles=10, dimensions=2,  \n",
    "options=options, bounds=my_bounds) \n",
    "\n",
    "optimizer.optimize(fx.sphere, iters=1000)"
   ]
  },
  {
   "cell_type": "markdown",
   "metadata": {},
   "source": [
    "Zadanie 1. c"
   ]
  },
  {
   "cell_type": "code",
   "execution_count": 21,
   "metadata": {},
   "outputs": [
    {
     "name": "stderr",
     "output_type": "stream",
     "text": [
      "2023-10-28 14:58:45,224 - pyswarms.single.global_best - INFO - Optimize for 1000 iters with {'c1': 0.5, 'c2': 0.3, 'w': 0.9}\n",
      "pyswarms.single.global_best: 100%|██████████|1000/1000, best_cost=-2\n",
      "2023-10-28 14:58:47,004 - pyswarms.single.global_best - INFO - Optimization finished | best cost: -1.9999988880611728, best pos: [ 4.71737355  1.61816462  1.88536791 -0.83315568  3.55690199  0.88323916]\n"
     ]
    },
    {
     "data": {
      "text/plain": [
       "(-1.9999988880611728,\n",
       " array([ 4.71737355,  1.61816462,  1.88536791, -0.83315568,  3.55690199,\n",
       "         0.88323916]))"
      ]
     },
     "execution_count": 21,
     "metadata": {},
     "output_type": "execute_result"
    }
   ],
   "source": [
    "import pyswarms as ps \n",
    "from pyswarms.utils.functions import single_obj as fx \n",
    "import math\n",
    "import numpy as np\n",
    " \n",
    "options = {'c1': 0.5, 'c2': 0.3, 'w':0.9} \n",
    "# x_max = [2, 2]\n",
    "# x_min = [1, 1]\n",
    "# my_bounds = (x_min, x_max)\n",
    "\n",
    "def endurance(x):\n",
    "    return np.exp(-2*(x[:, 1]-np.sin(x[:, 0]))**2)+np.sin(x[:, 2]*x[:, 3])+np.cos(x[:, 4]*x[:, 5])\n",
    "\n",
    "\n",
    "optimizer = ps.single.GlobalBestPSO(n_particles=10, dimensions=6,  \n",
    "options=options) \n",
    "\n",
    "\n",
    "optimizer.optimize(endurance, iters=1000)"
   ]
  },
  {
   "cell_type": "code",
   "execution_count": 7,
   "metadata": {},
   "outputs": [
    {
     "data": {
      "text/plain": [
       "-0.31405789273655493"
      ]
     },
     "execution_count": 7,
     "metadata": {},
     "output_type": "execute_result"
    }
   ],
   "source": []
  },
  {
   "cell_type": "code",
   "execution_count": null,
   "metadata": {},
   "outputs": [],
   "source": []
  }
 ],
 "metadata": {
  "interpreter": {
   "hash": "e7370f93d1d0cde622a1f8e1c04877d8463912d04d973331ad4851f04de6915a"
  },
  "kernelspec": {
   "display_name": "Python 3.7.9 64-bit",
   "language": "python",
   "name": "python3"
  },
  "language_info": {
   "codemirror_mode": {
    "name": "ipython",
    "version": 3
   },
   "file_extension": ".py",
   "mimetype": "text/x-python",
   "name": "python",
   "nbconvert_exporter": "python",
   "pygments_lexer": "ipython3",
   "version": "3.7.9"
  },
  "orig_nbformat": 4
 },
 "nbformat": 4,
 "nbformat_minor": 2
}
