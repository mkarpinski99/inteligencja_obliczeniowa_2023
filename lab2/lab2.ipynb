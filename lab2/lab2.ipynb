{
 "cells": [
  {
   "cell_type": "markdown",
   "metadata": {},
   "source": [
    "Zadanie 1."
   ]
  },
  {
   "cell_type": "code",
   "execution_count": 1,
   "metadata": {},
   "outputs": [
    {
     "name": "stdout",
     "output_type": "stream",
     "text": [
      "           przedmiot  wartosc  waga\n",
      "0              zegar      100     7\n",
      "1       obraz-pejzaż      300     7\n",
      "2      obraz-portret      200     6\n",
      "3              radio       40     2\n",
      "4             laptop      500     5\n",
      "5       lampka nocna       70     6\n",
      "6    srebrne sztućce      100     1\n",
      "7          procelana      250     3\n",
      "8     figura z brązu      300    10\n",
      "9   skórzana torebka      280     3\n",
      "10         odkurzacz      300    15\n"
     ]
    }
   ],
   "source": [
    "import pygad\n",
    "import numpy\n",
    "import pandas\n",
    "\n",
    "d = {\n",
    "    'przedmiot': ['zegar', 'obraz-pejzaż', 'obraz-portret', 'radio', 'laptop', 'lampka nocna', 'srebrne sztućce', 'procelana', 'figura z brązu', 'skórzana torebka', 'odkurzacz'], \n",
    "    'wartosc': [100, 300, 200, 40, 500, 70, 100, 250, 300, 280, 300], \n",
    "    'waga': [7, 7, 6, 2, 5, 6, 1, 3, 10, 3, 15]\n",
    "    }\n",
    "df = pandas.DataFrame(data=d)\n",
    "print(df)\n",
    "\n",
    "weight_limit = 25\n",
    "\n",
    "#definiujemy parametry chromosomu\n",
    "#geny to liczby: 0 lub 1\n",
    "gene_space = [0, 1]\n",
    "\n",
    "#ile chromsomów w populacji\n",
    "#ile genow ma chromosom\n",
    "sol_per_pop = 10\n",
    "num_genes = len(df['przedmiot'])\n",
    "\n",
    "#ile wylaniamy rodzicow do \"rozmanazania\" (okolo 50% populacji)\n",
    "#ile pokolen\n",
    "#ilu rodzicow zachowac (kilka procent)\n",
    "num_parents_mating = 5\n",
    "num_generations = 30\n",
    "keep_parents = 2\n",
    "\n",
    "#jaki typ selekcji rodzicow?\n",
    "#sss = steady, rws=roulette, rank = rankingowa, tournament = turniejowa\n",
    "parent_selection_type = \"sss\"\n",
    "\n",
    "#w il =u punktach robic krzyzowanie?\n",
    "crossover_type = \"single_point\"\n",
    "\n",
    "#mutacja ma dzialac na ilu procent genow?\n",
    "#trzeba pamietac ile genow ma chromosom\n",
    "mutation_type = \"random\"\n",
    "mutation_percent_genes = 8"
   ]
  },
  {
   "cell_type": "code",
   "execution_count": null,
   "metadata": {},
   "outputs": [],
   "source": [
    "#definiujemy funkcję fitness\n",
    "def fitness_func(instance, solution, solution_idx):\n",
    "    if numpy.sum(solution * df['waga']) > weight_limit:\n",
    "        return 0\n",
    "    return numpy.sum(solution * df['wartosc'])\n",
    "\n",
    "fitness_function = fitness_func"
   ]
  },
  {
   "cell_type": "code",
   "execution_count": null,
   "metadata": {},
   "outputs": [],
   "source": [
    "#inicjacja algorytmu z powyzszymi parametrami wpisanymi w atrybuty\n",
    "ga_instance = pygad.GA(gene_space=gene_space,\n",
    "                       num_generations=num_generations,\n",
    "                       num_parents_mating=num_parents_mating,\n",
    "                       fitness_func=fitness_function,\n",
    "                       sol_per_pop=sol_per_pop,\n",
    "                       num_genes=num_genes,\n",
    "                       parent_selection_type=parent_selection_type,\n",
    "                       keep_parents=keep_parents,\n",
    "                       crossover_type=crossover_type,\n",
    "                       mutation_type=mutation_type,\n",
    "                       mutation_percent_genes=mutation_percent_genes)\n",
    "\n",
    "#uruchomienie algorytmu\n",
    "ga_instance.run()"
   ]
  },
  {
   "cell_type": "code",
   "execution_count": null,
   "metadata": {},
   "outputs": [],
   "source": [
    "#podsumowanie: najlepsze znalezione rozwiazanie (chromosom+ocena)\n",
    "solution, solution_fitness, solution_idx = ga_instance.best_solution()\n",
    "print(\"Parameters of the best solution : {solution}\".format(solution=solution))\n",
    "print(\"Fitness value of the best solution = {solution_fitness}\".format(solution_fitness=solution_fitness))\n",
    "\n",
    "#tutaj dodatkowo wyswietlamy sume wskazana przez jedynki\n",
    "prediction = numpy.sum(df['wartosc']*solution)\n",
    "print(\"Predicted output based on the best solution : {prediction}\".format(prediction=prediction))\n",
    "\n",
    "#wyswietlenie wykresu: jak zmieniala sie ocena na przestrzeni pokolen\n",
    "ga_instance.plot_fitness()"
   ]
  },
  {
   "cell_type": "markdown",
   "metadata": {},
   "source": [
    "Zadanie 2."
   ]
  },
  {
   "cell_type": "code",
   "execution_count": null,
   "metadata": {},
   "outputs": [],
   "source": [
    "#inicjacja algorytmu z powyzszymi parametrami wpisanymi w atrybuty\n",
    "ga_instance = pygad.GA(gene_space=gene_space,\n",
    "                       num_generations=num_generations,\n",
    "                       num_parents_mating=num_parents_mating,\n",
    "                       fitness_func=fitness_function,\n",
    "                       sol_per_pop=sol_per_pop,\n",
    "                       num_genes=num_genes,\n",
    "                       parent_selection_type=parent_selection_type,\n",
    "                       keep_parents=keep_parents,\n",
    "                       crossover_type=crossover_type,\n",
    "                       mutation_type=mutation_type,\n",
    "                       mutation_percent_genes=mutation_percent_genes,\n",
    "                       stop_criteria='reach_1600')\n",
    "\n",
    "#uruchomienie algorytmu\n",
    "import time\n",
    "start = time.time()\n",
    "ga_instance.run()\n",
    "end = time.time()\n",
    "print(f\"Time elapsed: {end - start}\")\n",
    "\n",
    "#podsumowanie: najlepsze znalezione rozwiazanie (chromosom+ocena)\n",
    "solution, solution_fitness, solution_idx = ga_instance.best_solution()\n",
    "print(\"Parameters of the best solution : {solution}\".format(solution=solution))\n",
    "print(\"Fitness value of the best solution = {solution_fitness}\".format(solution_fitness=solution_fitness))\n",
    "\n",
    "#tutaj dodatkowo wyswietlamy sume wskazana przez jedynki\n",
    "prediction = numpy.sum(df['wartosc']*solution)\n",
    "print(\"Predicted output based on the best solution : {prediction}\".format(prediction=prediction))\n",
    "print(f\"Generations completed: {ga_instance.generations_completed}\")\n",
    "\n",
    "\n",
    "#wyswietlenie wykresu: jak zmieniala sie ocena na przestrzeni pokolen\n",
    "ga_instance.plot_fitness()\n"
   ]
  },
  {
   "cell_type": "code",
   "execution_count": null,
   "metadata": {},
   "outputs": [],
   "source": [
    "import time\n",
    "\n",
    "ga_instance = pygad.GA(gene_space=gene_space,\n",
    "                       num_generations=num_generations,\n",
    "                       num_parents_mating=num_parents_mating,\n",
    "                       fitness_func=fitness_function,\n",
    "                       sol_per_pop=sol_per_pop,\n",
    "                       num_genes=num_genes,\n",
    "                       parent_selection_type=parent_selection_type,\n",
    "                       keep_parents=keep_parents,\n",
    "                       crossover_type=crossover_type,\n",
    "                       mutation_type=mutation_type,\n",
    "                       mutation_percent_genes=mutation_percent_genes,\n",
    "                       stop_criteria='reach_1600')\n",
    "\n",
    "n = 10\n",
    "time_sum = 0\n",
    "for i in range(n):\n",
    "    start = time.time()\n",
    "    ga_instance.run()\n",
    "    end = time.time()\n",
    "    time_sum += end-start\n",
    "\n",
    "print(f\"Avarage time: {time_sum/10 * 1000}\")\n"
   ]
  },
  {
   "cell_type": "markdown",
   "metadata": {},
   "source": [
    "Zadanie 3."
   ]
  },
  {
   "cell_type": "code",
   "execution_count": null,
   "metadata": {},
   "outputs": [],
   "source": [
    "import math\n",
    "\n",
    "def endurance(x, y, z, u, v, w):\n",
    "    return math.exp(-2*(y-math.sin(x))**2)+math.sin(z*u)+math.cos(v*w)"
   ]
  },
  {
   "cell_type": "code",
   "execution_count": null,
   "metadata": {},
   "outputs": [],
   "source": [
    "import pygad\n",
    "\n",
    "\n",
    "#definiujemy parametry chromosomu\n",
    "gene_space = {'low': 0, 'high': 1}\n",
    "\n",
    "#ile chromsomów w populacji\n",
    "#ile genow ma chromosom\n",
    "sol_per_pop = 20\n",
    "num_genes = 6\n",
    "\n",
    "#ile wylaniamy rodzicow do \"rozmanazania\" (okolo 50% populacji)\n",
    "#ile pokolen\n",
    "#ilu rodzicow zachowac (kilka procent)\n",
    "num_parents_mating = 10\n",
    "num_generations = 50\n",
    "keep_parents = 4\n",
    "\n",
    "#jaki typ selekcji rodzicow?\n",
    "#sss = steady, rws=roulette, rank = rankingowa, tournament = turniejowa\n",
    "parent_selection_type = \"sss\"\n",
    "\n",
    "#w il =u punktach robic krzyzowanie?\n",
    "crossover_type = \"single_point\"\n",
    "\n",
    "#mutacja ma dzialac na ilu procent genow?\n",
    "#trzeba pamietac ile genow ma chromosom\n",
    "mutation_type = \"random\"\n",
    "mutation_percent_genes = 17"
   ]
  },
  {
   "cell_type": "code",
   "execution_count": null,
   "metadata": {},
   "outputs": [],
   "source": [
    "#definiujemy funkcję fitness\n",
    "def fitness_func(instance, solution, solution_idx):\n",
    "    return endurance(*solution)\n",
    "\n",
    "fitness_function = fitness_func"
   ]
  },
  {
   "cell_type": "code",
   "execution_count": null,
   "metadata": {},
   "outputs": [],
   "source": [
    "#inicjacja algorytmu z powyzszymi parametrami wpisanymi w atrybuty\n",
    "ga_instance = pygad.GA(gene_space=gene_space,\n",
    "                       num_generations=num_generations,\n",
    "                       num_parents_mating=num_parents_mating,\n",
    "                       fitness_func=fitness_function,\n",
    "                       sol_per_pop=sol_per_pop,\n",
    "                       num_genes=num_genes,\n",
    "                       parent_selection_type=parent_selection_type,\n",
    "                       keep_parents=keep_parents,\n",
    "                       crossover_type=crossover_type,\n",
    "                       mutation_type=mutation_type,\n",
    "                       mutation_percent_genes=mutation_percent_genes)\n",
    "\n",
    "#uruchomienie algorytmu\n",
    "ga_instance.run()\n",
    "\n",
    "#podsumowanie: najlepsze znalezione rozwiazanie (chromosom+ocena)\n",
    "solution, solution_fitness, solution_idx = ga_instance.best_solution()\n",
    "print(\"Parameters of the best solution : {solution}\".format(solution=solution))\n",
    "print(\"Fitness value of the best solution = {solution_fitness}\".format(solution_fitness=solution_fitness))\n",
    "\n",
    "#tutaj dodatkowo wyswietlamy sume wskazana przez jedynki\n",
    "prediction = endurance(*solution)\n",
    "print(\"Predicted output based on the best solution : {prediction}\".format(prediction=prediction))\n",
    "\n",
    "#wyswietlenie wykresu: jak zmieniala sie ocena na przestrzeni pokolen\n",
    "ga_instance.plot_fitness()"
   ]
  },
  {
   "cell_type": "markdown",
   "metadata": {},
   "source": [
    "Zadanie 4."
   ]
  },
  {
   "cell_type": "code",
   "execution_count": 1,
   "metadata": {},
   "outputs": [
    {
     "data": {
      "text/plain": [
       "<matplotlib.image.AxesImage at 0x7fe68f12ff10>"
      ]
     },
     "execution_count": 1,
     "metadata": {},
     "output_type": "execute_result"
    },
    {
     "data": {
      "image/png": "[encoded data removed]",
      "text/plain": [
       "<Figure size 432x288 with 1 Axes>"
      ]
     },
     "metadata": {
      "needs_background": "light"
     },
     "output_type": "display_data"
    }
   ],
   "source": [
    "import matplotlib.pyplot as plt\n",
    "\n",
    "maze_dict = {\n",
    "    '*': 0,\n",
    "    ' ': 1,\n",
    "    'x': 2,\n",
    "    'y': 3\n",
    "}\n",
    "\n",
    "\n",
    "maze = []\n",
    "with open('maze.txt', 'r') as f:\n",
    "    for line in f:\n",
    "        row = []\n",
    "        for i in line.rstrip():\n",
    "            row.append(maze_dict[i])\n",
    "        maze.append(row)\n",
    "\n",
    "        \n",
    "plt.axis('off')\n",
    "plt.imshow(maze)"
   ]
  },
  {
   "cell_type": "code",
   "execution_count": 6,
   "metadata": {},
   "outputs": [],
   "source": [
    "import pygad\n",
    "\n",
    "\n",
    "#definiujemy parametry chromosomu\n",
    "# 0 - N\n",
    "# 1 = S\n",
    "# 2 = W\n",
    "# 3 = E\n",
    "gene_space = [0, 1, 2, 3]\n",
    "\n",
    "#ile chromsomów w populacji\n",
    "#ile genow ma chromosom\n",
    "sol_per_pop = 100\n",
    "num_genes = 30\n",
    "\n",
    "#ile wylaniamy rodzicow do \"rozmanazania\" (okolo 50% populacji)\n",
    "#ile pokolen\n",
    "#ilu rodzicow zachowac (kilka procent)\n",
    "num_parents_mating = 50\n",
    "num_generations = 500\n",
    "keep_parents = 10\n",
    "\n",
    "#jaki typ selekcji rodzicow?\n",
    "#sss = steady, rws=roulette, rank = rankingowa, tournament = turniejowa\n",
    "parent_selection_type = \"sss\"\n",
    "\n",
    "#w il =u punktach robic krzyzowanie?\n",
    "crossover_type = \"single_point\"\n",
    "\n",
    "#mutacja ma dzialac na ilu procent genow?\n",
    "#trzeba pamietac ile genow ma chromosom\n",
    "mutation_type = \"random\"\n",
    "mutation_percent_genes = 5"
   ]
  },
  {
   "cell_type": "code",
   "execution_count": 8,
   "metadata": {},
   "outputs": [],
   "source": [
    "import copy\n",
    "import matplotlib.animation as anim\n",
    "import numpy as np\n",
    "\n",
    "\n",
    "def move(position, direction):\n",
    "    if direction == 0:\n",
    "        return (position[0] - 1, position[1])\n",
    "    if direction == 1:\n",
    "        return (position[0] + 1, position[1])\n",
    "    if direction == 2:\n",
    "        return (position[0], position[1] - 1)\n",
    "    if direction == 3:\n",
    "        return (position[0], position[1] + 1)        \n",
    "\n",
    "maze_cpy = copy.deepcopy(maze)\n",
    "\n",
    "#definiujemy funkcję fitness\n",
    "def fitness_func(instance, solution, solution_idx):\n",
    "    global maze_cpy\n",
    "    maze_cpy = copy.deepcopy(maze)\n",
    "    position = (1, 1)\n",
    "    fitness = 0\n",
    "    steps = 0\n",
    "    for step in solution:\n",
    "        new_position = move(position, step)\n",
    "        if maze_cpy[new_position[0]][new_position[1]] == 3:\n",
    "            return 100 + fitness - steps\n",
    "        if maze_cpy[new_position[0]][new_position[1]] == 0:\n",
    "            fitness -= 1\n",
    "        elif maze_cpy[new_position[0]][new_position[1]] == 4 or maze_cpy[new_position[0]][new_position[1]] == 2:\n",
    "            fitness -= 1\n",
    "        else:\n",
    "            fitness += 1\n",
    "            maze_cpy[new_position[0]][new_position[1]] = 4\n",
    "            position = new_position\n",
    "            steps += 1\n",
    "    return fitness\n",
    "\n",
    "\n",
    "fitness_function = fitness_func"
   ]
  },
  {
   "cell_type": "code",
   "execution_count": 12,
   "metadata": {},
   "outputs": [],
   "source": [
    "#inicjacja algorytmu z powyzszymi parametrami wpisanymi w atrybuty\n",
    "ga_instance = pygad.GA(gene_space=gene_space,\n",
    "                       num_generations=num_generations,\n",
    "                       num_parents_mating=num_parents_mating,\n",
    "                       fitness_func=fitness_function,\n",
    "                       sol_per_pop=sol_per_pop,\n",
    "                       num_genes=num_genes,\n",
    "                       parent_selection_type=parent_selection_type,\n",
    "                       keep_parents=keep_parents,\n",
    "                       crossover_type=crossover_type,\n",
    "                       mutation_type=mutation_type,\n",
    "                       mutation_percent_genes=mutation_percent_genes)\n",
    "\n",
    "#uruchomienie algorytmu\n",
    "ga_instance.run()"
   ]
  },
  {
   "cell_type": "code",
   "execution_count": 13,
   "metadata": {},
   "outputs": [
    {
     "name": "stderr",
     "output_type": "stream",
     "text": [
      "No handles with labels found to put in legend.\n"
     ]
    },
    {
     "name": "stdout",
     "output_type": "stream",
     "text": [
      "Parameters of the best solution : [3. 3. 1. 3. 3. 0. 3. 3. 2. 1. 1. 1. 2. 1. 3. 1. 3. 3. 1. 3. 1. 1. 1. 1.\n",
      " 2. 1. 3. 1. 0. 2.]\n",
      "Fitness value of the best solution = 99\n"
     ]
    },
    {
     "data": {
      "image/png": "[encoded data removed]",
      "text/plain": [
       "<Figure size 432x288 with 1 Axes>"
      ]
     },
     "metadata": {
      "needs_background": "light"
     },
     "output_type": "display_data"
    },
    {
     "data": {
      "text/plain": [
       "<matplotlib.image.AxesImage at 0x7fe68cd26290>"
      ]
     },
     "execution_count": 13,
     "metadata": {},
     "output_type": "execute_result"
    },
    {
     "data": {
      "image/png": "[encoded data removed]",
      "text/plain": [
       "<Figure size 432x288 with 1 Axes>"
      ]
     },
     "metadata": {
      "needs_background": "light"
     },
     "output_type": "display_data"
    }
   ],
   "source": [
    "solution, solution_fitness, solution_idx = ga_instance.best_solution()\n",
    "print(\"Parameters of the best solution : {solution}\".format(solution=solution))\n",
    "print(\"Fitness value of the best solution = {solution_fitness}\".format(solution_fitness=solution_fitness))\n",
    "\n",
    "#wyswietlenie wykresu: jak zmieniala sie ocena na przestrzeni pokolen\n",
    "ga_instance.plot_fitness()\n",
    "fitness_func(0, solution, 0)\n",
    "plt.axis('off')\n",
    "plt.imshow(maze_cpy)\n"
   ]
  },
  {
   "cell_type": "code",
   "execution_count": 21,
   "metadata": {},
   "outputs": [
    {
     "name": "stdout",
     "output_type": "stream",
     "text": [
      "Avarage time: 66.22216701507568\n"
     ]
    }
   ],
   "source": [
    "import time\n",
    "\n",
    "\n",
    "#inicjacja algorytmu z powyzszymi parametrami wpisanymi w atrybuty\n",
    "ga_instance = pygad.GA(gene_space=gene_space,\n",
    "                       num_generations=num_generations,\n",
    "                       num_parents_mating=num_parents_mating,\n",
    "                       fitness_func=fitness_function,\n",
    "                       sol_per_pop=sol_per_pop,\n",
    "                       num_genes=num_genes,\n",
    "                       parent_selection_type=parent_selection_type,\n",
    "                       keep_parents=keep_parents,\n",
    "                       crossover_type=crossover_type,\n",
    "                       mutation_type=mutation_type,\n",
    "                       mutation_percent_genes=mutation_percent_genes,\n",
    "                       stop_criteria='reach_80')\n",
    "\n",
    "\n",
    "n = 10\n",
    "time_sum = 0\n",
    "for i in range(n):\n",
    "    start = time.time()\n",
    "    ga_instance.run()\n",
    "    end = time.time()\n",
    "    time_sum += end-start\n",
    "\n",
    "print(f\"Avarage time: {time_sum/10 * 1000}\")\n"
   ]
  },
  {
   "cell_type": "code",
   "execution_count": null,
   "metadata": {},
   "outputs": [],
   "source": []
  }
 ],
 "metadata": {
  "kernelspec": {
   "display_name": "base",
   "language": "python",
   "name": "python3"
  },
  "language_info": {
   "codemirror_mode": {
    "name": "ipython",
    "version": 3
   },
   "file_extension": ".py",
   "mimetype": "text/x-python",
   "name": "python",
   "nbconvert_exporter": "python",
   "pygments_lexer": "ipython3",
   "version": "3.7.9"
  }
 },
 "nbformat": 4,
 "nbformat_minor": 2
}
