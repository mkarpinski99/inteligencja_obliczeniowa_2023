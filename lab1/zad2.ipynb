{
 "cells": [
  {
   "cell_type": "code",
   "execution_count": 8,
   "metadata": {},
   "outputs": [],
   "source": [
    "from math import sqrt\n",
    "import random\n",
    "\n",
    "import statistics\n",
    "\n",
    "list1 = [3, 8, 9, 10, 12]\n",
    "list2 = [8, 7, 7, 5, 6]"
   ]
  },
  {
   "cell_type": "code",
   "execution_count": 2,
   "metadata": {},
   "outputs": [
    {
     "name": "stdout",
     "output_type": "stream",
     "text": [
      "suma: [11, 15, 16, 15, 18]\n",
      "iloczyn: [24, 56, 63, 50, 72]\n"
     ]
    }
   ],
   "source": [
    "print(f'suma: {[sum(x) for x in zip(list1, list2)]}')\n",
    "print(f'iloczyn: {[x[0] * x[1] for x in zip(list1, list2)]}')"
   ]
  },
  {
   "cell_type": "code",
   "execution_count": 4,
   "metadata": {},
   "outputs": [
    {
     "name": "stdout",
     "output_type": "stream",
     "text": [
      "iloczyn skalarny: 265\n"
     ]
    }
   ],
   "source": [
    "print(f'iloczyn skalarny: {sum([x[0] * x[1] for x in zip(list1, list2)])}')"
   ]
  },
  {
   "cell_type": "code",
   "execution_count": 5,
   "metadata": {},
   "outputs": [
    {
     "name": "stdout",
     "output_type": "stream",
     "text": [
      "długość wektora1: 19.949937343260004\n",
      "długość wektora2: 14.933184523068078\n"
     ]
    }
   ],
   "source": [
    "print(f'długość wektora1: {sqrt(sum([x**2 for x in list1]))}')\n",
    "print(f'długość wektora2: {sqrt(sum([x**2 for x in list2]))}')"
   ]
  },
  {
   "cell_type": "code",
   "execution_count": 6,
   "metadata": {},
   "outputs": [
    {
     "name": "stdout",
     "output_type": "stream",
     "text": [
      "losowy wektor:  [69, 73, 99, 50, 78, 50, 79, 64, 48, 73, 38, 24, 96, 30, 50, 7, 9, 2, 10, 49, 26, 47, 9, 90, 63, 91, 13, 97, 14, 67, 96, 77, 71, 13, 37, 32, 58, 71, 69, 75, 80, 38, 34, 27, 49, 67, 41, 92, 61, 34]\n"
     ]
    }
   ],
   "source": [
    "rand_vector = [random.randint(1, 100) for _ in range(50)]\n",
    "print('losowy wektor: ', rand_vector)"
   ]
  },
  {
   "cell_type": "code",
   "execution_count": 7,
   "metadata": {},
   "outputs": [
    {
     "name": "stdout",
     "output_type": "stream",
     "text": [
      "średnia wektora: 52.74\n",
      "min wektora: 2\n",
      "max wektora: 99\n",
      "odchylenie standardowe: 27.811178196061043\n"
     ]
    }
   ],
   "source": [
    "vec_mean = sum(rand_vector)/len(rand_vector)\n",
    "print(f'średnia wektora: {vec_mean}')\n",
    "vec_min = min(rand_vector)\n",
    "vec_max = max(rand_vector)\n",
    "print(f'min wektora: {vec_min}')\n",
    "print(f'max wektora: {vec_max}')\n",
    "vec_stdev = statistics.stdev(rand_vector)\n",
    "print(f'odchylenie standardowe: {vec_stdev}')"
   ]
  },
  {
   "cell_type": "code",
   "execution_count": 9,
   "metadata": {},
   "outputs": [
    {
     "name": "stdout",
     "output_type": "stream",
     "text": [
      "normalizacja: [0.6907216494845361, 0.7319587628865979, 1.0, 0.4948453608247423, 0.7835051546391752, 0.4948453608247423, 0.7938144329896907, 0.6391752577319587, 0.4742268041237113, 0.7319587628865979, 0.3711340206185567, 0.2268041237113402, 0.9690721649484536, 0.28865979381443296, 0.4948453608247423, 0.05154639175257732, 0.07216494845360824, 0.0, 0.08247422680412371, 0.4845360824742268, 0.24742268041237114, 0.4639175257731959, 0.07216494845360824, 0.9072164948453608, 0.6288659793814433, 0.9175257731958762, 0.1134020618556701, 0.979381443298969, 0.12371134020618557, 0.6701030927835051, 0.9690721649484536, 0.7731958762886598, 0.711340206185567, 0.1134020618556701, 0.36082474226804123, 0.30927835051546393, 0.5773195876288659, 0.711340206185567, 0.6907216494845361, 0.7525773195876289, 0.8041237113402062, 0.3711340206185567, 0.32989690721649484, 0.25773195876288657, 0.4845360824742268, 0.6701030927835051, 0.4020618556701031, 0.9278350515463918, 0.6082474226804123, 0.32989690721649484]\n",
      "max po normalizacji: 1.0\n",
      "standaryzacja: [0.5846569996197765, 0.7284840597968433, 1.6633599509477777, -0.09852153622129084, 0.9082678850181768, -0.09852153622129084, 0.9442246500624435, 0.404873174398443, -0.17043506630982425, 0.7284840597968433, -0.5300027167524912, -1.033397427372225, 1.5554896558149776, -0.8176568371066248, -0.09852153622129084, -1.644662433124759, -1.5727489030362256, -1.8244462583460925, -1.536792137991959, -0.13447830126555754, -0.9614838972836917, -0.20639183135409095, -1.5727489030362256, 1.3397490655493773, 0.3689164093541763, 1.375705830593644, -1.4289218428591588, 1.5914464208592443, -1.392965077814892, 0.5127434695312431, 1.5554896558149776, 0.8723111199739101, 0.6565705297083099, -1.4289218428591588, -0.5659594817967579, -0.7457433070180914, 0.18913258413284278, 0.6565705297083099, 0.5846569996197765, 0.8003975898853767, 0.9801814151067102, -0.5300027167524912, -0.673829776929558, -0.925527132239425, -0.13447830126555754, 0.5127434695312431, -0.42213242161969117, 1.4116625956379107, 0.2970028792656429, -0.673829776929558]\n",
      "dyskretyzacja: [[60, 70], [70, 80], [90, 100], [50, 60], [70, 80], [50, 60], [70, 80], [60, 70], [40, 50], [70, 80], [30, 40], [20, 30], [90, 100], [30, 40], [50, 60], [0, 10], [0, 10], [0, 10], [10, 20], [40, 50], [20, 30], [40, 50], [0, 10], [90, 100], [60, 70], [90, 100], [10, 20], [90, 100], [10, 20], [60, 70], [90, 100], [70, 80], [70, 80], [10, 20], [30, 40], [30, 40], [50, 60], [70, 80], [60, 70], [70, 80], [80, 90], [30, 40], [30, 40], [20, 30], [40, 50], [60, 70], [40, 50], [90, 100], [60, 70], [30, 40]]\n"
     ]
    }
   ],
   "source": [
    "vec_normalized = [(x-vec_min)/(vec_max-vec_min) for x in rand_vector]\n",
    "print(f'normalizacja: {vec_normalized}')\n",
    "print(f'max po normalizacji: {max(vec_normalized)}')\n",
    "print(f'standaryzacja: {[(x-vec_mean)/vec_stdev for x in rand_vector]}')\n",
    "print(f'dyskretyzacja: {[[(x - x % 10), (x - x % 10 + 10)] for x in rand_vector]}')"
   ]
  },
  {
   "cell_type": "code",
   "execution_count": null,
   "metadata": {},
   "outputs": [],
   "source": []
  }
 ],
 "metadata": {
  "kernelspec": {
   "display_name": "Python 3",
   "language": "python",
   "name": "python3"
  },
  "language_info": {
   "codemirror_mode": {
    "name": "ipython",
    "version": 3
   },
   "file_extension": ".py",
   "mimetype": "text/x-python",
   "name": "python",
   "nbconvert_exporter": "python",
   "pygments_lexer": "ipython3",
   "version": "3.7.9"
  }
 },
 "nbformat": 4,
 "nbformat_minor": 4
}
