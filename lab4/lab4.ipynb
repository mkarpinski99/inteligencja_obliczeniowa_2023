{
 "cells": [
  {
   "cell_type": "markdown",
   "metadata": {},
   "source": [
    "Zadanie 1."
   ]
  },
  {
   "cell_type": "code",
   "execution_count": 2,
   "metadata": {},
   "outputs": [
    {
     "name": "stdout",
     "output_type": "stream",
     "text": [
      "     sepal.length  sepal.width  petal.length  petal.width    variety\n",
      "0             5.1          3.5           1.4          0.2     Setosa\n",
      "1             4.9          3.0           1.4          0.2     Setosa\n",
      "2             4.7          3.2           1.3          0.2     Setosa\n",
      "3             4.6          3.1           1.5          0.2     Setosa\n",
      "4             5.0          3.6           1.4          0.2     Setosa\n",
      "..            ...          ...           ...          ...        ...\n",
      "145           6.7          3.0           5.2          2.3  Virginica\n",
      "146           6.3          2.5           5.0          1.9  Virginica\n",
      "147           6.5          3.0           5.2          2.0  Virginica\n",
      "148           6.2          3.4           5.4          2.3  Virginica\n",
      "149           5.9          3.0           5.1          1.8  Virginica\n",
      "\n",
      "[150 rows x 5 columns]\n"
     ]
    }
   ],
   "source": [
    "import pandas as pd \n",
    " \n",
    "df = pd.read_csv(\"iris.csv\") \n",
    " \n",
    "print(df)"
   ]
  },
  {
   "cell_type": "code",
   "execution_count": 4,
   "metadata": {},
   "outputs": [
    {
     "name": "stdout",
     "output_type": "stream",
     "text": [
      "[[5.1 3.5 1.4 0.2 'Setosa']\n",
      " [4.9 3.0 1.4 0.2 'Setosa']\n",
      " [4.7 3.2 1.3 0.2 'Setosa']\n",
      " [4.6 3.1 1.5 0.2 'Setosa']\n",
      " [5.0 3.6 1.4 0.2 'Setosa']\n",
      " [5.4 3.9 1.7 0.4 'Setosa']\n",
      " [4.6 3.4 1.4 0.3 'Setosa']\n",
      " [5.0 3.4 1.5 0.2 'Setosa']\n",
      " [4.4 2.9 1.4 0.2 'Setosa']\n",
      " [4.9 3.1 1.5 0.1 'Setosa']\n",
      " [5.4 3.7 1.5 0.2 'Setosa']\n",
      " [4.8 3.4 1.6 0.2 'Setosa']\n",
      " [4.8 3.0 1.4 0.1 'Setosa']\n",
      " [4.3 3.0 1.1 0.1 'Setosa']\n",
      " [5.8 4.0 1.2 0.2 'Setosa']\n",
      " [5.7 4.4 1.5 0.4 'Setosa']\n",
      " [5.4 3.9 1.3 0.4 'Setosa']\n",
      " [5.1 3.5 1.4 0.3 'Setosa']\n",
      " [5.7 3.8 1.7 0.3 'Setosa']\n",
      " [5.1 3.8 1.5 0.3 'Setosa']\n",
      " [5.4 3.4 1.7 0.2 'Setosa']\n",
      " [5.1 3.7 1.5 0.4 'Setosa']\n",
      " [4.6 3.6 1.0 0.2 'Setosa']\n",
      " [5.1 3.3 1.7 0.5 'Setosa']\n",
      " [4.8 3.4 1.9 0.2 'Setosa']\n",
      " [5.0 3.0 1.6 0.2 'Setosa']\n",
      " [5.0 3.4 1.6 0.4 'Setosa']\n",
      " [5.2 3.5 1.5 0.2 'Setosa']\n",
      " [5.2 3.4 1.4 0.2 'Setosa']\n",
      " [4.7 3.2 1.6 0.2 'Setosa']\n",
      " [4.8 3.1 1.6 0.2 'Setosa']\n",
      " [5.4 3.4 1.5 0.4 'Setosa']\n",
      " [5.2 4.1 1.5 0.1 'Setosa']\n",
      " [5.5 4.2 1.4 0.2 'Setosa']\n",
      " [4.9 3.1 1.5 0.2 'Setosa']\n",
      " [5.0 3.2 1.2 0.2 'Setosa']\n",
      " [5.5 3.5 1.3 0.2 'Setosa']\n",
      " [4.9 3.6 1.4 0.1 'Setosa']\n",
      " [4.4 3.0 1.3 0.2 'Setosa']\n",
      " [5.1 3.4 1.5 0.2 'Setosa']\n",
      " [5.0 3.5 1.3 0.3 'Setosa']\n",
      " [4.5 2.3 1.3 0.3 'Setosa']\n",
      " [4.4 3.2 1.3 0.2 'Setosa']\n",
      " [5.0 3.5 1.6 0.6 'Setosa']\n",
      " [5.1 3.8 1.9 0.4 'Setosa']\n",
      " [4.8 3.0 1.4 0.3 'Setosa']\n",
      " [5.1 3.8 1.6 0.2 'Setosa']\n",
      " [4.6 3.2 1.4 0.2 'Setosa']\n",
      " [5.3 3.7 1.5 0.2 'Setosa']\n",
      " [5.0 3.3 1.4 0.2 'Setosa']\n",
      " [7.0 3.2 4.7 1.4 'Versicolor']\n",
      " [6.4 3.2 4.5 1.5 'Versicolor']\n",
      " [6.9 3.1 4.9 1.5 'Versicolor']\n",
      " [5.5 2.3 4.0 1.3 'Versicolor']\n",
      " [6.5 2.8 4.6 1.5 'Versicolor']\n",
      " [5.7 2.8 4.5 1.3 'Versicolor']\n",
      " [6.3 3.3 4.7 1.6 'Versicolor']\n",
      " [4.9 2.4 3.3 1.0 'Versicolor']\n",
      " [6.6 2.9 4.6 1.3 'Versicolor']\n",
      " [5.2 2.7 3.9 1.4 'Versicolor']\n",
      " [5.0 2.0 3.5 1.0 'Versicolor']\n",
      " [5.9 3.0 4.2 1.5 'Versicolor']\n",
      " [6.0 2.2 4.0 1.0 'Versicolor']\n",
      " [6.1 2.9 4.7 1.4 'Versicolor']\n",
      " [5.6 2.9 3.6 1.3 'Versicolor']\n",
      " [6.7 3.1 4.4 1.4 'Versicolor']\n",
      " [5.6 3.0 4.5 1.5 'Versicolor']\n",
      " [5.8 2.7 4.1 1.0 'Versicolor']\n",
      " [6.2 2.2 4.5 1.5 'Versicolor']\n",
      " [5.6 2.5 3.9 1.1 'Versicolor']\n",
      " [5.9 3.2 4.8 1.8 'Versicolor']\n",
      " [6.1 2.8 4.0 1.3 'Versicolor']\n",
      " [6.3 2.5 4.9 1.5 'Versicolor']\n",
      " [6.1 2.8 4.7 1.2 'Versicolor']\n",
      " [6.4 2.9 4.3 1.3 'Versicolor']\n",
      " [6.6 3.0 4.4 1.4 'Versicolor']\n",
      " [6.8 2.8 4.8 1.4 'Versicolor']\n",
      " [6.7 3.0 5.0 1.7 'Versicolor']\n",
      " [6.0 2.9 4.5 1.5 'Versicolor']\n",
      " [5.7 2.6 3.5 1.0 'Versicolor']\n",
      " [5.5 2.4 3.8 1.1 'Versicolor']\n",
      " [5.5 2.4 3.7 1.0 'Versicolor']\n",
      " [5.8 2.7 3.9 1.2 'Versicolor']\n",
      " [6.0 2.7 5.1 1.6 'Versicolor']\n",
      " [5.4 3.0 4.5 1.5 'Versicolor']\n",
      " [6.0 3.4 4.5 1.6 'Versicolor']\n",
      " [6.7 3.1 4.7 1.5 'Versicolor']\n",
      " [6.3 2.3 4.4 1.3 'Versicolor']\n",
      " [5.6 3.0 4.1 1.3 'Versicolor']\n",
      " [5.5 2.5 4.0 1.3 'Versicolor']\n",
      " [5.5 2.6 4.4 1.2 'Versicolor']\n",
      " [6.1 3.0 4.6 1.4 'Versicolor']\n",
      " [5.8 2.6 4.0 1.2 'Versicolor']\n",
      " [5.0 2.3 3.3 1.0 'Versicolor']\n",
      " [5.6 2.7 4.2 1.3 'Versicolor']\n",
      " [5.7 3.0 4.2 1.2 'Versicolor']\n",
      " [5.7 2.9 4.2 1.3 'Versicolor']\n",
      " [6.2 2.9 4.3 1.3 'Versicolor']\n",
      " [5.1 2.5 3.0 1.1 'Versicolor']\n",
      " [5.7 2.8 4.1 1.3 'Versicolor']\n",
      " [6.3 3.3 6.0 2.5 'Virginica']\n",
      " [5.8 2.7 5.1 1.9 'Virginica']\n",
      " [7.1 3.0 5.9 2.1 'Virginica']\n",
      " [6.3 2.9 5.6 1.8 'Virginica']\n",
      " [6.5 3.0 5.8 2.2 'Virginica']\n",
      " [7.6 3.0 6.6 2.1 'Virginica']\n",
      " [4.9 2.5 4.5 1.7 'Virginica']\n",
      " [7.3 2.9 6.3 1.8 'Virginica']\n",
      " [6.7 2.5 5.8 1.8 'Virginica']\n",
      " [7.2 3.6 6.1 2.5 'Virginica']\n",
      " [6.5 3.2 5.1 2.0 'Virginica']\n",
      " [6.4 2.7 5.3 1.9 'Virginica']\n",
      " [6.8 3.0 5.5 2.1 'Virginica']\n",
      " [5.7 2.5 5.0 2.0 'Virginica']\n",
      " [5.8 2.8 5.1 2.4 'Virginica']\n",
      " [6.4 3.2 5.3 2.3 'Virginica']\n",
      " [6.5 3.0 5.5 1.8 'Virginica']\n",
      " [7.7 3.8 6.7 2.2 'Virginica']\n",
      " [7.7 2.6 6.9 2.3 'Virginica']\n",
      " [6.0 2.2 5.0 1.5 'Virginica']\n",
      " [6.9 3.2 5.7 2.3 'Virginica']\n",
      " [5.6 2.8 4.9 2.0 'Virginica']\n",
      " [7.7 2.8 6.7 2.0 'Virginica']\n",
      " [6.3 2.7 4.9 1.8 'Virginica']\n",
      " [6.7 3.3 5.7 2.1 'Virginica']\n",
      " [7.2 3.2 6.0 1.8 'Virginica']\n",
      " [6.2 2.8 4.8 1.8 'Virginica']\n",
      " [6.1 3.0 4.9 1.8 'Virginica']\n",
      " [6.4 2.8 5.6 2.1 'Virginica']\n",
      " [7.2 3.0 5.8 1.6 'Virginica']\n",
      " [7.4 2.8 6.1 1.9 'Virginica']\n",
      " [7.9 3.8 6.4 2.0 'Virginica']\n",
      " [6.4 2.8 5.6 2.2 'Virginica']\n",
      " [6.3 2.8 5.1 1.5 'Virginica']\n",
      " [6.1 2.6 5.6 1.4 'Virginica']\n",
      " [7.7 3.0 6.1 2.3 'Virginica']\n",
      " [6.3 3.4 5.6 2.4 'Virginica']\n",
      " [6.4 3.1 5.5 1.8 'Virginica']\n",
      " [6.0 3.0 4.8 1.8 'Virginica']\n",
      " [6.9 3.1 5.4 2.1 'Virginica']\n",
      " [6.7 3.1 5.6 2.4 'Virginica']\n",
      " [6.9 3.1 5.1 2.3 'Virginica']\n",
      " [5.8 2.7 5.1 1.9 'Virginica']\n",
      " [6.8 3.2 5.9 2.3 'Virginica']\n",
      " [6.7 3.3 5.7 2.5 'Virginica']\n",
      " [6.7 3.0 5.2 2.3 'Virginica']\n",
      " [6.3 2.5 5.0 1.9 'Virginica']\n",
      " [6.5 3.0 5.2 2.0 'Virginica']\n",
      " [6.2 3.4 5.4 2.3 'Virginica']\n",
      " [5.9 3.0 5.1 1.8 'Virginica']]\n"
     ]
    }
   ],
   "source": [
    "print(df.values)"
   ]
  },
  {
   "cell_type": "code",
   "execution_count": 5,
   "metadata": {},
   "outputs": [
    {
     "name": "stdout",
     "output_type": "stream",
     "text": [
      "[5.1 4.9 4.7 4.6 5.0 5.4 4.6 5.0 4.4 4.9 5.4 4.8 4.8 4.3 5.8 5.7 5.4 5.1\n",
      " 5.7 5.1 5.4 5.1 4.6 5.1 4.8 5.0 5.0 5.2 5.2 4.7 4.8 5.4 5.2 5.5 4.9 5.0\n",
      " 5.5 4.9 4.4 5.1 5.0 4.5 4.4 5.0 5.1 4.8 5.1 4.6 5.3 5.0 7.0 6.4 6.9 5.5\n",
      " 6.5 5.7 6.3 4.9 6.6 5.2 5.0 5.9 6.0 6.1 5.6 6.7 5.6 5.8 6.2 5.6 5.9 6.1\n",
      " 6.3 6.1 6.4 6.6 6.8 6.7 6.0 5.7 5.5 5.5 5.8 6.0 5.4 6.0 6.7 6.3 5.6 5.5\n",
      " 5.5 6.1 5.8 5.0 5.6 5.7 5.7 6.2 5.1 5.7 6.3 5.8 7.1 6.3 6.5 7.6 4.9 7.3\n",
      " 6.7 7.2 6.5 6.4 6.8 5.7 5.8 6.4 6.5 7.7 7.7 6.0 6.9 5.6 7.7 6.3 6.7 7.2\n",
      " 6.2 6.1 6.4 7.2 7.4 7.9 6.4 6.3 6.1 7.7 6.3 6.4 6.0 6.9 6.7 6.9 5.8 6.8\n",
      " 6.7 6.7 6.3 6.5 6.2 5.9]\n",
      "[[5.4 3.9 1.7 0.4 'Setosa']\n",
      " [4.6 3.4 1.4 0.3 'Setosa']\n",
      " [5.0 3.4 1.5 0.2 'Setosa']\n",
      " [4.4 2.9 1.4 0.2 'Setosa']\n",
      " [4.9 3.1 1.5 0.1 'Setosa']\n",
      " [5.4 3.7 1.5 0.2 'Setosa']]\n",
      "Setosa\n"
     ]
    }
   ],
   "source": [
    "#wszystkie wiersze, kolumna nr 0 \n",
    "print(df.values[:, 0]) \n",
    " \n",
    "#wiersze od 5 do 10, wszystkie kolumny \n",
    "print(df.values[5:11, :]) \n",
    " \n",
    "#dane w komórce [1,4] \n",
    "print(df.values[1, 4]) "
   ]
  },
  {
   "cell_type": "code",
   "execution_count": 7,
   "metadata": {},
   "outputs": [],
   "source": [
    "from sklearn.model_selection import train_test_split\n",
    "\n",
    "#podzial na zbior testowy (30%) i treningowy (70%), ziarno losowosci = 13 \n",
    "(train_set, test_set) = train_test_split(df.values, train_size=0.7, random_state=13) \n"
   ]
  },
  {
   "cell_type": "code",
   "execution_count": 8,
   "metadata": {},
   "outputs": [
    {
     "name": "stdout",
     "output_type": "stream",
     "text": [
      "[[5.7 2.8 4.5 1.3 'Versicolor']\n",
      " [5.6 2.9 3.6 1.3 'Versicolor']\n",
      " [5.1 3.7 1.5 0.4 'Setosa']\n",
      " [5.8 2.7 5.1 1.9 'Virginica']\n",
      " [6.8 3.0 5.5 2.1 'Virginica']\n",
      " [5.5 4.2 1.4 0.2 'Setosa']\n",
      " [7.7 3.0 6.1 2.3 'Virginica']\n",
      " [6.3 2.7 4.9 1.8 'Virginica']\n",
      " [5.1 3.8 1.6 0.2 'Setosa']\n",
      " [5.5 2.6 4.4 1.2 'Versicolor']\n",
      " [6.0 3.0 4.8 1.8 'Virginica']\n",
      " [6.3 2.8 5.1 1.5 'Virginica']\n",
      " [6.3 2.3 4.4 1.3 'Versicolor']\n",
      " [5.1 3.8 1.9 0.4 'Setosa']\n",
      " [5.8 2.8 5.1 2.4 'Virginica']\n",
      " [4.8 3.1 1.6 0.2 'Setosa']\n",
      " [6.1 3.0 4.9 1.8 'Virginica']\n",
      " [6.5 3.0 5.8 2.2 'Virginica']\n",
      " [6.1 3.0 4.6 1.4 'Versicolor']\n",
      " [4.4 2.9 1.4 0.2 'Setosa']\n",
      " [6.0 2.9 4.5 1.5 'Versicolor']\n",
      " [5.7 4.4 1.5 0.4 'Setosa']\n",
      " [5.1 3.5 1.4 0.3 'Setosa']\n",
      " [7.4 2.8 6.1 1.9 'Virginica']\n",
      " [5.4 3.0 4.5 1.5 'Versicolor']\n",
      " [6.7 3.3 5.7 2.5 'Virginica']\n",
      " [5.8 4.0 1.2 0.2 'Setosa']\n",
      " [7.7 2.6 6.9 2.3 'Virginica']\n",
      " [6.1 2.9 4.7 1.4 'Versicolor']\n",
      " [6.4 2.8 5.6 2.2 'Virginica']\n",
      " [6.4 3.1 5.5 1.8 'Virginica']\n",
      " [5.2 4.1 1.5 0.1 'Setosa']\n",
      " [5.4 3.4 1.5 0.4 'Setosa']\n",
      " [6.9 3.1 5.1 2.3 'Virginica']\n",
      " [6.3 2.5 5.0 1.9 'Virginica']\n",
      " [6.2 2.9 4.3 1.3 'Versicolor']\n",
      " [5.1 3.3 1.7 0.5 'Setosa']\n",
      " [5.6 3.0 4.5 1.5 'Versicolor']\n",
      " [6.2 2.2 4.5 1.5 'Versicolor']\n",
      " [4.8 3.0 1.4 0.1 'Setosa']\n",
      " [5.2 3.5 1.5 0.2 'Setosa']\n",
      " [6.1 2.6 5.6 1.4 'Virginica']\n",
      " [5.7 2.9 4.2 1.3 'Versicolor']\n",
      " [7.2 3.2 6.0 1.8 'Virginica']\n",
      " [6.5 3.2 5.1 2.0 'Virginica']]\n",
      "45\n"
     ]
    }
   ],
   "source": [
    "print(test_set) \n",
    "print(test_set.shape[0])"
   ]
  },
  {
   "cell_type": "code",
   "execution_count": 9,
   "metadata": {},
   "outputs": [],
   "source": [
    "train_inputs = train_set[:, 0:4] \n",
    "train_classes = train_set[:, 4] \n",
    "test_inputs = test_set[:, 0:4] \n",
    "test_classes = test_set[:, 4]"
   ]
  },
  {
   "cell_type": "markdown",
   "metadata": {},
   "source": [
    "Zadanie 2."
   ]
  },
  {
   "cell_type": "code",
   "execution_count": 18,
   "metadata": {},
   "outputs": [],
   "source": [
    "import pandas as pd \n",
    "from sklearn.model_selection import train_test_split \n",
    " \n",
    "df = pd.read_csv(\"iris.csv\") \n",
    " \n",
    "(train_set, test_set) = train_test_split(df.values, train_size=0.7, random_state=261138)"
   ]
  },
  {
   "cell_type": "code",
   "execution_count": 19,
   "metadata": {},
   "outputs": [],
   "source": [
    "def classify_iris(sl, sw, pl, pw): \n",
    "    if sl > 4: \n",
    "        return(\"Setosa\") \n",
    "    elif pl <= 5: \n",
    "        return(\"Virginica\") \n",
    "    else: \n",
    "        return(\"Versicolor\")"
   ]
  },
  {
   "cell_type": "code",
   "execution_count": 28,
   "metadata": {},
   "outputs": [
    {
     "name": "stdout",
     "output_type": "stream",
     "text": [
      "42\n",
      "93.33333333333333 %\n"
     ]
    }
   ],
   "source": [
    "good_predictions = 0 \n",
    "len = test_set.shape[0] \n",
    " \n",
    "for i in range(len): \n",
    "    if classify_iris(test_set[i, 0], test_set[i, 1], test_set[i, 2], test_set[i, 3]) == test_set[i, 4]: \n",
    "        good_predictions = good_predictions + 1 \n",
    " \n",
    "print(good_predictions) \n",
    "print(good_predictions/len*100, \"%\")"
   ]
  },
  {
   "cell_type": "code",
   "execution_count": 26,
   "metadata": {},
   "outputs": [
    {
     "name": "stdout",
     "output_type": "stream",
     "text": [
      "[[4.4 2.0 1.2 0.1 'Setosa']\n",
      " [4.4 2.2 1.3 0.1 'Setosa']\n",
      " [4.5 2.2 1.3 0.1 'Setosa']\n",
      " [4.6 2.3 1.3 0.1 'Setosa']\n",
      " [4.6 2.3 1.3 0.2 'Setosa']\n",
      " [4.7 2.4 1.3 0.2 'Setosa']\n",
      " [4.8 2.4 1.3 0.2 'Setosa']\n",
      " [4.8 2.5 1.4 0.2 'Setosa']\n",
      " [4.9 2.5 1.4 0.2 'Setosa']\n",
      " [4.9 2.5 1.4 0.2 'Setosa']\n",
      " [4.9 2.5 1.4 0.2 'Setosa']\n",
      " [4.9 2.5 1.4 0.2 'Setosa']\n",
      " [4.9 2.5 1.4 0.2 'Setosa']\n",
      " [5.0 2.6 1.4 0.2 'Setosa']\n",
      " [5.0 2.6 1.4 0.2 'Setosa']\n",
      " [5.0 2.6 1.4 0.2 'Setosa']\n",
      " [5.0 2.6 1.5 0.2 'Setosa']\n",
      " [5.0 2.7 1.5 0.2 'Setosa']\n",
      " [5.0 2.7 1.5 0.2 'Setosa']\n",
      " [5.0 2.7 1.5 0.2 'Setosa']\n",
      " [5.1 2.7 1.5 0.2 'Setosa']\n",
      " [5.1 2.7 1.5 0.2 'Setosa']\n",
      " [5.1 2.7 1.5 0.2 'Setosa']\n",
      " [5.1 2.8 1.5 0.3 'Setosa']\n",
      " [5.1 2.8 1.5 0.3 'Setosa']\n",
      " [5.1 2.8 1.5 0.3 'Setosa']\n",
      " [5.1 2.8 1.6 0.3 'Setosa']\n",
      " [5.2 2.8 1.6 0.3 'Setosa']\n",
      " [5.2 2.8 1.6 0.4 'Setosa']\n",
      " [5.2 2.8 1.6 0.4 'Setosa']\n",
      " [5.3 2.8 1.6 0.4 'Setosa']\n",
      " [5.4 2.8 1.7 0.4 'Setosa']\n",
      " [5.4 2.8 1.7 0.5 'Setosa']\n",
      " [5.4 2.8 1.9 0.6 'Setosa']\n",
      " [5.4 2.8 3.0 1.0 'Versicolor']\n",
      " [5.5 2.9 3.3 1.0 'Versicolor']\n",
      " [5.5 2.9 3.5 1.0 'Versicolor']\n",
      " [5.5 2.9 3.5 1.0 'Versicolor']\n",
      " [5.5 2.9 3.7 1.0 'Versicolor']\n",
      " [5.5 2.9 3.9 1.0 'Versicolor']\n",
      " [5.5 2.9 3.9 1.1 'Versicolor']\n",
      " [5.6 3.0 4.0 1.1 'Versicolor']\n",
      " [5.6 3.0 4.0 1.2 'Versicolor']\n",
      " [5.6 3.0 4.0 1.2 'Versicolor']\n",
      " [5.6 3.0 4.0 1.3 'Versicolor']\n",
      " [5.6 3.0 4.1 1.3 'Versicolor']\n",
      " [5.7 3.0 4.1 1.3 'Versicolor']\n",
      " [5.7 3.0 4.1 1.3 'Versicolor']\n",
      " [5.7 3.0 4.2 1.3 'Versicolor']\n",
      " [5.7 3.0 4.2 1.3 'Versicolor']\n",
      " [5.8 3.0 4.3 1.3 'Versicolor']\n",
      " [5.8 3.0 4.3 1.3 'Versicolor']\n",
      " [5.8 3.0 4.4 1.3 'Versicolor']\n",
      " [5.8 3.0 4.4 1.4 'Versicolor']\n",
      " [5.9 3.0 4.5 1.4 'Versicolor']\n",
      " [5.9 3.0 4.5 1.4 'Versicolor']\n",
      " [5.9 3.0 4.5 1.4 'Versicolor']\n",
      " [6.0 3.0 4.5 1.4 'Versicolor']\n",
      " [6.0 3.0 4.5 1.4 'Versicolor']\n",
      " [6.0 3.1 4.6 1.4 'Versicolor']\n",
      " [6.0 3.1 4.6 1.5 'Versicolor']\n",
      " [6.0 3.1 4.6 1.5 'Versicolor']\n",
      " [6.0 3.1 4.7 1.5 'Versicolor']\n",
      " [6.1 3.1 4.7 1.5 'Versicolor']\n",
      " [6.1 3.1 4.7 1.5 'Versicolor']\n",
      " [6.1 3.1 4.7 1.5 'Versicolor']\n",
      " [6.1 3.2 4.7 1.5 'Versicolor']\n",
      " [6.1 3.2 4.8 1.5 'Versicolor']\n",
      " [6.1 3.2 4.8 1.5 'Versicolor']\n",
      " [6.2 3.2 4.8 1.5 'Versicolor']\n",
      " [6.2 3.2 4.8 1.5 'Versicolor']\n",
      " [6.2 3.2 4.9 1.6 'Versicolor']\n",
      " [6.3 3.2 4.9 1.6 'Versicolor']\n",
      " [6.3 3.2 4.9 1.6 'Virginica']\n",
      " [6.3 3.3 4.9 1.7 'Virginica']\n",
      " [6.3 3.3 5.0 1.8 'Virginica']\n",
      " [6.3 3.3 5.0 1.8 'Virginica']\n",
      " [6.3 3.3 5.0 1.8 'Virginica']\n",
      " [6.4 3.4 5.1 1.8 'Virginica']\n",
      " [6.4 3.4 5.1 1.8 'Virginica']\n",
      " [6.4 3.4 5.1 1.8 'Virginica']\n",
      " [6.4 3.4 5.1 1.8 'Virginica']\n",
      " [6.4 3.4 5.1 1.8 'Virginica']\n",
      " [6.5 3.4 5.1 1.9 'Virginica']\n",
      " [6.5 3.4 5.2 1.9 'Virginica']\n",
      " [6.6 3.4 5.3 2.0 'Virginica']\n",
      " [6.6 3.5 5.4 2.0 'Virginica']\n",
      " [6.7 3.5 5.5 2.0 'Virginica']\n",
      " [6.7 3.5 5.6 2.0 'Virginica']\n",
      " [6.7 3.5 5.6 2.1 'Virginica']\n",
      " [6.7 3.5 5.6 2.1 'Virginica']\n",
      " [6.7 3.6 5.6 2.2 'Virginica']\n",
      " [6.8 3.6 5.6 2.2 'Virginica']\n",
      " [6.8 3.7 5.6 2.3 'Virginica']\n",
      " [6.9 3.7 5.7 2.3 'Virginica']\n",
      " [6.9 3.7 5.8 2.3 'Virginica']\n",
      " [6.9 3.8 5.9 2.3 'Virginica']\n",
      " [7.0 3.8 5.9 2.3 'Virginica']\n",
      " [7.1 3.8 6.0 2.3 'Virginica']\n",
      " [7.2 3.8 6.1 2.3 'Virginica']\n",
      " [7.7 3.8 6.1 2.4 'Virginica']\n",
      " [7.7 3.9 6.4 2.4 'Virginica']\n",
      " [7.7 4.0 6.7 2.4 'Virginica']\n",
      " [7.7 4.1 6.7 2.5 'Virginica']\n",
      " [7.9 4.2 6.9 2.5 'Virginica']]\n"
     ]
    }
   ],
   "source": [
    "import numpy as np\n",
    "\n",
    "print(np.sort(train_set, 0))"
   ]
  },
  {
   "cell_type": "code",
   "execution_count": 27,
   "metadata": {},
   "outputs": [],
   "source": [
    "def classify_iris(sl, sw, pl, pw): \n",
    "    if pw < 0.6 and pl < 2.0:  \n",
    "        return(\"Setosa\") \n",
    "    elif pl > 4.9 and pw > 1.6: \n",
    "        return(\"Virginica\") \n",
    "    else: \n",
    "        return(\"Versicolor\") "
   ]
  },
  {
   "cell_type": "code",
   "execution_count": 77,
   "metadata": {},
   "outputs": [
    {
     "name": "stdout",
     "output_type": "stream",
     "text": [
      "42\n",
      "93.33333333333333 %\n"
     ]
    }
   ],
   "source": [
    "good_predictions = 0 \n",
    "len = test_set.shape[0] \n",
    " \n",
    "for i in range(len): \n",
    "    if classify_iris(test_set[i, 0], test_set[i, 1], test_set[i, 2], test_set[i, 3]) == test_set[i, 4]: \n",
    "        good_predictions = good_predictions + 1 \n",
    " \n",
    "print(good_predictions) \n",
    "print(good_predictions/len*100, \"%\")"
   ]
  },
  {
   "cell_type": "markdown",
   "metadata": {},
   "source": [
    "Zadanie 3."
   ]
  },
  {
   "cell_type": "code",
   "execution_count": 30,
   "metadata": {},
   "outputs": [
    {
     "name": "stdout",
     "output_type": "stream",
     "text": [
      "[[6.3 3.4 5.6 2.4 'Virginica']\n",
      " [5.0 3.0 1.6 0.2 'Setosa']\n",
      " [7.7 2.6 6.9 2.3 'Virginica']\n",
      " [6.3 2.5 4.9 1.5 'Versicolor']\n",
      " [7.7 3.8 6.7 2.2 'Virginica']\n",
      " [5.4 3.0 4.5 1.5 'Versicolor']\n",
      " [6.0 2.7 5.1 1.6 'Versicolor']\n",
      " [6.4 2.7 5.3 1.9 'Virginica']\n",
      " [5.4 3.4 1.5 0.4 'Setosa']\n",
      " [5.0 3.4 1.6 0.4 'Setosa']\n",
      " [5.3 3.7 1.5 0.2 'Setosa']\n",
      " [5.7 3.8 1.7 0.3 'Setosa']\n",
      " [5.5 2.4 3.7 1.0 'Versicolor']\n",
      " [5.5 4.2 1.4 0.2 'Setosa']\n",
      " [5.1 3.3 1.7 0.5 'Setosa']\n",
      " [4.5 2.3 1.3 0.3 'Setosa']\n",
      " [6.2 2.9 4.3 1.3 'Versicolor']\n",
      " [5.5 2.5 4.0 1.3 'Versicolor']\n",
      " [4.8 3.0 1.4 0.1 'Setosa']\n",
      " [5.0 3.4 1.5 0.2 'Setosa']\n",
      " [6.0 2.9 4.5 1.5 'Versicolor']\n",
      " [4.9 3.1 1.5 0.1 'Setosa']\n",
      " [5.6 3.0 4.1 1.3 'Versicolor']\n",
      " [6.3 2.9 5.6 1.8 'Virginica']\n",
      " [5.7 2.5 5.0 2.0 'Virginica']\n",
      " [6.3 2.8 5.1 1.5 'Virginica']\n",
      " [7.7 2.8 6.7 2.0 'Virginica']\n",
      " [6.1 2.8 4.0 1.3 'Versicolor']\n",
      " [6.5 2.8 4.6 1.5 'Versicolor']\n",
      " [5.1 3.8 1.5 0.3 'Setosa']\n",
      " [6.4 2.8 5.6 2.2 'Virginica']\n",
      " [4.7 3.2 1.6 0.2 'Setosa']\n",
      " [6.2 3.4 5.4 2.3 'Virginica']\n",
      " [5.9 3.0 4.2 1.5 'Versicolor']\n",
      " [5.1 3.8 1.6 0.2 'Setosa']\n",
      " [7.2 3.6 6.1 2.5 'Virginica']\n",
      " [4.4 3.0 1.3 0.2 'Setosa']\n",
      " [6.2 2.8 4.8 1.8 'Virginica']\n",
      " [5.4 3.7 1.5 0.2 'Setosa']\n",
      " [5.5 3.5 1.3 0.2 'Setosa']\n",
      " [4.4 3.2 1.3 0.2 'Setosa']\n",
      " [5.0 3.5 1.6 0.6 'Setosa']\n",
      " [6.7 3.1 4.7 1.5 'Versicolor']\n",
      " [7.9 3.8 6.4 2.0 'Virginica']\n",
      " [5.2 2.7 3.9 1.4 'Versicolor']\n",
      " [4.9 2.4 3.3 1.0 'Versicolor']\n",
      " [4.6 3.1 1.5 0.2 'Setosa']\n",
      " [5.1 3.5 1.4 0.3 'Setosa']\n",
      " [6.1 3.0 4.9 1.8 'Virginica']\n",
      " [6.1 2.9 4.7 1.4 'Versicolor']\n",
      " [5.0 3.5 1.3 0.3 'Setosa']\n",
      " [5.5 2.6 4.4 1.2 'Versicolor']\n",
      " [6.0 3.0 4.8 1.8 'Virginica']\n",
      " [5.8 2.7 5.1 1.9 'Virginica']\n",
      " [7.1 3.0 5.9 2.1 'Virginica']\n",
      " [6.7 3.0 5.2 2.3 'Virginica']\n",
      " [4.9 3.6 1.4 0.1 'Setosa']\n",
      " [4.8 3.4 1.9 0.2 'Setosa']\n",
      " [5.1 2.5 3.0 1.1 'Versicolor']\n",
      " [5.8 2.8 5.1 2.4 'Virginica']\n",
      " [6.7 2.5 5.8 1.8 'Virginica']\n",
      " [5.4 3.9 1.3 0.4 'Setosa']\n",
      " [6.9 3.2 5.7 2.3 'Virginica']\n",
      " [6.9 3.1 4.9 1.5 'Versicolor']\n",
      " [5.9 3.2 4.8 1.8 'Versicolor']\n",
      " [6.8 2.8 4.8 1.4 'Versicolor']\n",
      " [4.6 3.2 1.4 0.2 'Setosa']\n",
      " [7.0 3.2 4.7 1.4 'Versicolor']\n",
      " [5.6 2.8 4.9 2.0 'Virginica']\n",
      " [6.0 2.2 5.0 1.5 'Virginica']\n",
      " [6.5 3.0 5.5 1.8 'Virginica']\n",
      " [5.2 4.1 1.5 0.1 'Setosa']\n",
      " [6.6 2.9 4.6 1.3 'Versicolor']\n",
      " [6.9 3.1 5.1 2.3 'Virginica']\n",
      " [4.9 3.0 1.4 0.2 'Setosa']\n",
      " [6.1 2.8 4.7 1.2 'Versicolor']\n",
      " [6.7 3.1 5.6 2.4 'Virginica']\n",
      " [6.1 2.6 5.6 1.4 'Virginica']\n",
      " [6.0 3.4 4.5 1.6 'Versicolor']\n",
      " [5.9 3.0 5.1 1.8 'Virginica']\n",
      " [5.6 3.0 4.5 1.5 'Versicolor']\n",
      " [6.8 3.2 5.9 2.3 'Virginica']\n",
      " [5.1 3.7 1.5 0.4 'Setosa']\n",
      " [5.6 2.5 3.9 1.1 'Versicolor']\n",
      " [5.8 2.7 4.1 1.0 'Versicolor']\n",
      " [5.2 3.4 1.4 0.2 'Setosa']\n",
      " [5.7 2.6 3.5 1.0 'Versicolor']\n",
      " [6.4 2.9 4.3 1.3 'Versicolor']\n",
      " [5.0 2.0 3.5 1.0 'Versicolor']\n",
      " [5.0 3.3 1.4 0.2 'Setosa']\n",
      " [6.3 3.3 6.0 2.5 'Virginica']\n",
      " [5.7 2.8 4.1 1.3 'Versicolor']\n",
      " [5.5 2.3 4.0 1.3 'Versicolor']\n",
      " [6.0 2.2 4.0 1.0 'Versicolor']\n",
      " [6.7 3.0 5.0 1.7 'Versicolor']\n",
      " [6.4 3.2 4.5 1.5 'Versicolor']\n",
      " [4.9 3.1 1.5 0.2 'Setosa']\n",
      " [5.1 3.5 1.4 0.2 'Setosa']\n",
      " [6.4 2.8 5.6 2.1 'Virginica']\n",
      " [7.7 3.0 6.1 2.3 'Virginica']\n",
      " [5.6 2.7 4.2 1.3 'Versicolor']\n",
      " [5.8 4.0 1.2 0.2 'Setosa']\n",
      " [6.3 3.3 4.7 1.6 'Versicolor']\n",
      " [6.6 3.0 4.4 1.4 'Versicolor']\n",
      " [6.1 3.0 4.6 1.4 'Versicolor']]\n",
      "[[6.7 3.1 4.4 1.4 'Versicolor']\n",
      " [6.5 3.2 5.1 2.0 'Virginica']\n",
      " [7.2 3.0 5.8 1.6 'Virginica']\n",
      " [4.7 3.2 1.3 0.2 'Setosa']\n",
      " [5.4 3.4 1.7 0.2 'Setosa']\n",
      " [5.7 2.9 4.2 1.3 'Versicolor']\n",
      " [6.3 2.3 4.4 1.3 'Versicolor']\n",
      " [5.7 3.0 4.2 1.2 'Versicolor']\n",
      " [6.9 3.1 5.4 2.1 'Virginica']\n",
      " [6.5 3.0 5.8 2.2 'Virginica']\n",
      " [4.6 3.4 1.4 0.3 'Setosa']\n",
      " [5.0 3.6 1.4 0.2 'Setosa']\n",
      " [6.5 3.0 5.2 2.0 'Virginica']\n",
      " [4.3 3.0 1.1 0.1 'Setosa']\n",
      " [5.1 3.4 1.5 0.2 'Setosa']\n",
      " [7.2 3.2 6.0 1.8 'Virginica']\n",
      " [4.8 3.0 1.4 0.3 'Setosa']\n",
      " [6.3 2.5 5.0 1.9 'Virginica']\n",
      " [5.7 2.8 4.5 1.3 'Versicolor']\n",
      " [5.0 3.2 1.2 0.2 'Setosa']\n",
      " [5.8 2.6 4.0 1.2 'Versicolor']\n",
      " [5.2 3.5 1.5 0.2 'Setosa']\n",
      " [5.8 2.7 5.1 1.9 'Virginica']\n",
      " [5.6 2.9 3.6 1.3 'Versicolor']\n",
      " [5.8 2.7 3.9 1.2 'Versicolor']\n",
      " [5.7 4.4 1.5 0.4 'Setosa']\n",
      " [7.6 3.0 6.6 2.1 'Virginica']\n",
      " [6.4 3.1 5.5 1.8 'Virginica']\n",
      " [6.2 2.2 4.5 1.5 'Versicolor']\n",
      " [7.3 2.9 6.3 1.8 'Virginica']\n",
      " [4.9 2.5 4.5 1.7 'Virginica']\n",
      " [6.4 3.2 5.3 2.3 'Virginica']\n",
      " [4.6 3.6 1.0 0.2 'Setosa']\n",
      " [6.7 3.3 5.7 2.5 'Virginica']\n",
      " [5.0 2.3 3.3 1.0 'Versicolor']\n",
      " [6.7 3.3 5.7 2.1 'Virginica']\n",
      " [4.8 3.4 1.6 0.2 'Setosa']\n",
      " [6.8 3.0 5.5 2.1 'Virginica']\n",
      " [7.4 2.8 6.1 1.9 'Virginica']\n",
      " [6.3 2.7 4.9 1.8 'Virginica']\n",
      " [5.5 2.4 3.8 1.1 'Versicolor']\n",
      " [4.4 2.9 1.4 0.2 'Setosa']\n",
      " [5.4 3.9 1.7 0.4 'Setosa']\n",
      " [5.1 3.8 1.9 0.4 'Setosa']\n",
      " [4.8 3.1 1.6 0.2 'Setosa']]\n"
     ]
    }
   ],
   "source": [
    "import pandas as pd \n",
    "from sklearn.model_selection import train_test_split \n",
    " \n",
    "df = pd.read_csv(\"iris.csv\") \n",
    " \n",
    "(train_set, test_set) = train_test_split(df.values, train_size=0.7, random_state=261138)\n",
    "\n",
    "print(train_set)\n",
    "print(test_set)\n",
    "\n",
    "train_inputs = train_set[:, 0:4]\n",
    "train_classes = train_set[:, 4]\n",
    "test_inputs = test_set[:, 0:4]\n",
    "test_classes = test_set[:, 4]"
   ]
  },
  {
   "cell_type": "code",
   "execution_count": 73,
   "metadata": {},
   "outputs": [
    {
     "data": {
      "text/html": [
       "<style>#sk-container-id-7 {color: black;}#sk-container-id-7 pre{padding: 0;}#sk-container-id-7 div.sk-toggleable {background-color: white;}#sk-container-id-7 label.sk-toggleable__label {cursor: pointer;display: block;width: 100%;margin-bottom: 0;padding: 0.3em;box-sizing: border-box;text-align: center;}#sk-container-id-7 label.sk-toggleable__label-arrow:before {content: \"▸\";float: left;margin-right: 0.25em;color: #696969;}#sk-container-id-7 label.sk-toggleable__label-arrow:hover:before {color: black;}#sk-container-id-7 div.sk-estimator:hover label.sk-toggleable__label-arrow:before {color: black;}#sk-container-id-7 div.sk-toggleable__content {max-height: 0;max-width: 0;overflow: hidden;text-align: left;background-color: #f0f8ff;}#sk-container-id-7 div.sk-toggleable__content pre {margin: 0.2em;color: black;border-radius: 0.25em;background-color: #f0f8ff;}#sk-container-id-7 input.sk-toggleable__control:checked~div.sk-toggleable__content {max-height: 200px;max-width: 100%;overflow: auto;}#sk-container-id-7 input.sk-toggleable__control:checked~label.sk-toggleable__label-arrow:before {content: \"▾\";}#sk-container-id-7 div.sk-estimator input.sk-toggleable__control:checked~label.sk-toggleable__label {background-color: #d4ebff;}#sk-container-id-7 div.sk-label input.sk-toggleable__control:checked~label.sk-toggleable__label {background-color: #d4ebff;}#sk-container-id-7 input.sk-hidden--visually {border: 0;clip: rect(1px 1px 1px 1px);clip: rect(1px, 1px, 1px, 1px);height: 1px;margin: -1px;overflow: hidden;padding: 0;position: absolute;width: 1px;}#sk-container-id-7 div.sk-estimator {font-family: monospace;background-color: #f0f8ff;border: 1px dotted black;border-radius: 0.25em;box-sizing: border-box;margin-bottom: 0.5em;}#sk-container-id-7 div.sk-estimator:hover {background-color: #d4ebff;}#sk-container-id-7 div.sk-parallel-item::after {content: \"\";width: 100%;border-bottom: 1px solid gray;flex-grow: 1;}#sk-container-id-7 div.sk-label:hover label.sk-toggleable__label {background-color: #d4ebff;}#sk-container-id-7 div.sk-serial::before {content: \"\";position: absolute;border-left: 1px solid gray;box-sizing: border-box;top: 0;bottom: 0;left: 50%;z-index: 0;}#sk-container-id-7 div.sk-serial {display: flex;flex-direction: column;align-items: center;background-color: white;padding-right: 0.2em;padding-left: 0.2em;position: relative;}#sk-container-id-7 div.sk-item {position: relative;z-index: 1;}#sk-container-id-7 div.sk-parallel {display: flex;align-items: stretch;justify-content: center;background-color: white;position: relative;}#sk-container-id-7 div.sk-item::before, #sk-container-id-7 div.sk-parallel-item::before {content: \"\";position: absolute;border-left: 1px solid gray;box-sizing: border-box;top: 0;bottom: 0;left: 50%;z-index: -1;}#sk-container-id-7 div.sk-parallel-item {display: flex;flex-direction: column;z-index: 1;position: relative;background-color: white;}#sk-container-id-7 div.sk-parallel-item:first-child::after {align-self: flex-end;width: 50%;}#sk-container-id-7 div.sk-parallel-item:last-child::after {align-self: flex-start;width: 50%;}#sk-container-id-7 div.sk-parallel-item:only-child::after {width: 0;}#sk-container-id-7 div.sk-dashed-wrapped {border: 1px dashed gray;margin: 0 0.4em 0.5em 0.4em;box-sizing: border-box;padding-bottom: 0.4em;background-color: white;}#sk-container-id-7 div.sk-label label {font-family: monospace;font-weight: bold;display: inline-block;line-height: 1.2em;}#sk-container-id-7 div.sk-label-container {text-align: center;}#sk-container-id-7 div.sk-container {/* jupyter's `normalize.less` sets `[hidden] { display: none; }` but bootstrap.min.css set `[hidden] { display: none !important; }` so we also need the `!important` here to be able to override the default hidden behavior on the sphinx rendered scikit-learn.org. See: https://github.com/scikit-learn/scikit-learn/issues/21755 */display: inline-block !important;position: relative;}#sk-container-id-7 div.sk-text-repr-fallback {display: none;}</style><div id=\"sk-container-id-7\" class=\"sk-top-container\"><div class=\"sk-text-repr-fallback\"><pre>DecisionTreeClassifier()</pre><b>In a Jupyter environment, please rerun this cell to show the HTML representation or trust the notebook. <br />On GitHub, the HTML representation is unable to render, please try loading this page with nbviewer.org.</b></div><div class=\"sk-container\" hidden><div class=\"sk-item\"><div class=\"sk-estimator sk-toggleable\"><input class=\"sk-toggleable__control sk-hidden--visually\" id=\"sk-estimator-id-7\" type=\"checkbox\" checked><label for=\"sk-estimator-id-7\" class=\"sk-toggleable__label sk-toggleable__label-arrow\">DecisionTreeClassifier</label><div class=\"sk-toggleable__content\"><pre>DecisionTreeClassifier()</pre></div></div></div></div></div>"
      ],
      "text/plain": [
       "DecisionTreeClassifier()"
      ]
     },
     "execution_count": 73,
     "metadata": {},
     "output_type": "execute_result"
    }
   ],
   "source": [
    "from sklearn import tree\n",
    "\n",
    "clf = tree.DecisionTreeClassifier()\n",
    "clf.fit(train_inputs, train_classes)\n"
   ]
  },
  {
   "cell_type": "code",
   "execution_count": 74,
   "metadata": {},
   "outputs": [
    {
     "data": {
      "text/plain": [
       "[Text(0.375, 0.9, 'x[3] <= 0.75\\ngini = 0.665\\nsamples = 105\\nvalue = [36, 32, 37]'),\n",
       " Text(0.25, 0.7, 'gini = 0.0\\nsamples = 36\\nvalue = [36, 0, 0]'),\n",
       " Text(0.5, 0.7, 'x[2] <= 4.75\\ngini = 0.497\\nsamples = 69\\nvalue = [0, 32, 37]'),\n",
       " Text(0.25, 0.5, 'x[3] <= 1.65\\ngini = 0.061\\nsamples = 32\\nvalue = [0, 31, 1]'),\n",
       " Text(0.125, 0.3, 'gini = 0.0\\nsamples = 31\\nvalue = [0, 31, 0]'),\n",
       " Text(0.375, 0.3, 'gini = 0.0\\nsamples = 1\\nvalue = [0, 0, 1]'),\n",
       " Text(0.75, 0.5, 'x[3] <= 1.75\\ngini = 0.053\\nsamples = 37\\nvalue = [0, 1, 36]'),\n",
       " Text(0.625, 0.3, 'x[3] <= 1.65\\ngini = 0.375\\nsamples = 4\\nvalue = [0, 1, 3]'),\n",
       " Text(0.5, 0.1, 'gini = 0.0\\nsamples = 3\\nvalue = [0, 0, 3]'),\n",
       " Text(0.75, 0.1, 'gini = 0.0\\nsamples = 1\\nvalue = [0, 1, 0]'),\n",
       " Text(0.875, 0.3, 'gini = 0.0\\nsamples = 33\\nvalue = [0, 0, 33]')]"
      ]
     },
     "execution_count": 74,
     "metadata": {},
     "output_type": "execute_result"
    },
    {
     "data": {
      "image/png": "[encoded data removed]",
      "text/plain": [
       "<Figure size 640x480 with 1 Axes>"
      ]
     },
     "metadata": {},
     "output_type": "display_data"
    }
   ],
   "source": [
    "tree.plot_tree(clf)"
   ]
  },
  {
   "cell_type": "code",
   "execution_count": 75,
   "metadata": {},
   "outputs": [
    {
     "data": {
      "text/plain": [
       "0.8888888888888888"
      ]
     },
     "execution_count": 75,
     "metadata": {},
     "output_type": "execute_result"
    }
   ],
   "source": [
    "clf.score(test_inputs, test_classes)"
   ]
  },
  {
   "cell_type": "code",
   "execution_count": 76,
   "metadata": {},
   "outputs": [
    {
     "data": {
      "text/plain": [
       "array([[14,  0,  0],\n",
       "       [ 0, 13,  5],\n",
       "       [ 0,  0, 13]])"
      ]
     },
     "execution_count": 76,
     "metadata": {},
     "output_type": "execute_result"
    }
   ],
   "source": [
    "from sklearn.metrics import confusion_matrix\n",
    "\n",
    "confusion_matrix(test_classes, clf.predict(test_inputs))"
   ]
  },
  {
   "cell_type": "markdown",
   "metadata": {},
   "source": [
    "Zadanie 4."
   ]
  },
  {
   "cell_type": "code",
   "execution_count": 68,
   "metadata": {},
   "outputs": [
    {
     "name": "stdout",
     "output_type": "stream",
     "text": [
      "[[6.7 3.0 5.2 2.3 'Virginica']\n",
      " [5.9 3.0 4.2 1.5 'Versicolor']\n",
      " [4.8 3.0 1.4 0.1 'Setosa']\n",
      " [6.0 2.9 4.5 1.5 'Versicolor']\n",
      " [5.1 3.5 1.4 0.2 'Setosa']\n",
      " [5.1 3.5 1.4 0.3 'Setosa']\n",
      " [7.6 3.0 6.6 2.1 'Virginica']\n",
      " [7.7 3.0 6.1 2.3 'Virginica']\n",
      " [6.2 3.4 5.4 2.3 'Virginica']\n",
      " [5.0 3.6 1.4 0.2 'Setosa']\n",
      " [6.3 2.5 5.0 1.9 'Virginica']\n",
      " [6.1 3.0 4.9 1.8 'Virginica']\n",
      " [6.0 3.4 4.5 1.6 'Versicolor']\n",
      " [7.2 3.2 6.0 1.8 'Virginica']\n",
      " [5.8 2.7 5.1 1.9 'Virginica']\n",
      " [4.6 3.6 1.0 0.2 'Setosa']\n",
      " [6.9 3.2 5.7 2.3 'Virginica']\n",
      " [6.9 3.1 5.1 2.3 'Virginica']\n",
      " [5.8 2.8 5.1 2.4 'Virginica']\n",
      " [6.4 3.2 5.3 2.3 'Virginica']\n",
      " [5.0 3.4 1.5 0.2 'Setosa']\n",
      " [6.5 3.0 5.5 1.8 'Virginica']\n",
      " [6.7 3.1 5.6 2.4 'Virginica']\n",
      " [6.2 2.9 4.3 1.3 'Versicolor']\n",
      " [5.1 3.8 1.6 0.2 'Setosa']\n",
      " [5.7 3.8 1.7 0.3 'Setosa']\n",
      " [6.1 3.0 4.6 1.4 'Versicolor']\n",
      " [5.1 3.8 1.5 0.3 'Setosa']\n",
      " [4.9 2.5 4.5 1.7 'Virginica']\n",
      " [6.6 2.9 4.6 1.3 'Versicolor']\n",
      " [6.2 2.8 4.8 1.8 'Virginica']\n",
      " [6.3 2.8 5.1 1.5 'Virginica']\n",
      " [7.4 2.8 6.1 1.9 'Virginica']\n",
      " [5.7 2.5 5.0 2.0 'Virginica']\n",
      " [5.0 3.2 1.2 0.2 'Setosa']\n",
      " [4.4 2.9 1.4 0.2 'Setosa']\n",
      " [6.3 3.3 4.7 1.6 'Versicolor']\n",
      " [5.6 2.8 4.9 2.0 'Virginica']\n",
      " [6.4 3.2 4.5 1.5 'Versicolor']\n",
      " [4.8 3.4 1.9 0.2 'Setosa']\n",
      " [5.1 3.8 1.9 0.4 'Setosa']\n",
      " [7.7 3.8 6.7 2.2 'Virginica']\n",
      " [5.0 3.5 1.3 0.3 'Setosa']\n",
      " [6.7 3.0 5.0 1.7 'Versicolor']\n",
      " [5.5 3.5 1.3 0.2 'Setosa']\n",
      " [5.1 3.3 1.7 0.5 'Setosa']\n",
      " [5.0 2.3 3.3 1.0 'Versicolor']\n",
      " [5.6 2.9 3.6 1.3 'Versicolor']\n",
      " [7.7 2.8 6.7 2.0 'Virginica']\n",
      " [5.5 2.6 4.4 1.2 'Versicolor']\n",
      " [6.2 2.2 4.5 1.5 'Versicolor']\n",
      " [7.1 3.0 5.9 2.1 'Virginica']\n",
      " [4.9 3.0 1.4 0.2 'Setosa']\n",
      " [5.8 2.7 4.1 1.0 'Versicolor']\n",
      " [6.0 2.2 5.0 1.5 'Virginica']\n",
      " [5.8 2.7 5.1 1.9 'Virginica']\n",
      " [5.7 2.8 4.1 1.3 'Versicolor']\n",
      " [5.2 4.1 1.5 0.1 'Setosa']\n",
      " [5.3 3.7 1.5 0.2 'Setosa']\n",
      " [6.8 3.0 5.5 2.1 'Virginica']\n",
      " [5.1 2.5 3.0 1.1 'Versicolor']\n",
      " [5.5 2.5 4.0 1.3 'Versicolor']\n",
      " [6.4 3.1 5.5 1.8 'Virginica']\n",
      " [4.6 3.4 1.4 0.3 'Setosa']\n",
      " [5.7 2.8 4.5 1.3 'Versicolor']\n",
      " [6.3 2.9 5.6 1.8 'Virginica']\n",
      " [5.8 2.7 3.9 1.2 'Versicolor']\n",
      " [4.9 2.4 3.3 1.0 'Versicolor']\n",
      " [7.2 3.6 6.1 2.5 'Virginica']\n",
      " [5.5 2.3 4.0 1.3 'Versicolor']\n",
      " [6.4 2.9 4.3 1.3 'Versicolor']\n",
      " [4.8 3.1 1.6 0.2 'Setosa']\n",
      " [5.0 3.4 1.6 0.4 'Setosa']\n",
      " [4.4 3.0 1.3 0.2 'Setosa']\n",
      " [6.0 3.0 4.8 1.8 'Virginica']\n",
      " [4.4 3.2 1.3 0.2 'Setosa']\n",
      " [6.3 3.4 5.6 2.4 'Virginica']\n",
      " [6.5 3.0 5.2 2.0 'Virginica']\n",
      " [4.3 3.0 1.1 0.1 'Setosa']\n",
      " [4.7 3.2 1.3 0.2 'Setosa']\n",
      " [5.6 3.0 4.5 1.5 'Versicolor']\n",
      " [7.2 3.0 5.8 1.6 'Virginica']\n",
      " [5.7 4.4 1.5 0.4 'Setosa']\n",
      " [6.6 3.0 4.4 1.4 'Versicolor']\n",
      " [5.7 2.6 3.5 1.0 'Versicolor']\n",
      " [6.4 2.8 5.6 2.2 'Virginica']\n",
      " [4.6 3.1 1.5 0.2 'Setosa']\n",
      " [6.8 3.2 5.9 2.3 'Virginica']\n",
      " [5.4 3.4 1.7 0.2 'Setosa']\n",
      " [4.7 3.2 1.6 0.2 'Setosa']\n",
      " [6.7 3.3 5.7 2.1 'Virginica']\n",
      " [6.1 2.8 4.7 1.2 'Versicolor']\n",
      " [5.5 2.4 3.7 1.0 'Versicolor']\n",
      " [5.0 2.0 3.5 1.0 'Versicolor']\n",
      " [6.4 2.8 5.6 2.1 'Virginica']\n",
      " [6.7 3.1 4.7 1.5 'Versicolor']\n",
      " [5.0 3.3 1.4 0.2 'Setosa']\n",
      " [4.6 3.2 1.4 0.2 'Setosa']\n",
      " [5.1 3.4 1.5 0.2 'Setosa']\n",
      " [5.4 3.9 1.3 0.4 'Setosa']\n",
      " [4.8 3.4 1.6 0.2 'Setosa']\n",
      " [5.5 2.4 3.8 1.1 'Versicolor']\n",
      " [6.0 2.2 4.0 1.0 'Versicolor']\n",
      " [5.1 3.7 1.5 0.4 'Setosa']\n",
      " [5.7 2.9 4.2 1.3 'Versicolor']]\n",
      "[[5.6 2.5 3.9 1.1 'Versicolor']\n",
      " [4.5 2.3 1.3 0.3 'Setosa']\n",
      " [6.4 2.7 5.3 1.9 'Virginica']\n",
      " [6.5 3.2 5.1 2.0 'Virginica']\n",
      " [7.0 3.2 4.7 1.4 'Versicolor']\n",
      " [5.8 2.6 4.0 1.2 'Versicolor']\n",
      " [5.0 3.5 1.6 0.6 'Setosa']\n",
      " [5.4 3.0 4.5 1.5 'Versicolor']\n",
      " [7.9 3.8 6.4 2.0 'Virginica']\n",
      " [6.8 2.8 4.8 1.4 'Versicolor']\n",
      " [6.9 3.1 5.4 2.1 'Virginica']\n",
      " [5.5 4.2 1.4 0.2 'Setosa']\n",
      " [4.9 3.1 1.5 0.1 'Setosa']\n",
      " [5.4 3.7 1.5 0.2 'Setosa']\n",
      " [6.5 2.8 4.6 1.5 'Versicolor']\n",
      " [4.8 3.0 1.4 0.3 'Setosa']\n",
      " [5.2 3.5 1.5 0.2 'Setosa']\n",
      " [5.0 3.0 1.6 0.2 'Setosa']\n",
      " [6.5 3.0 5.8 2.2 'Virginica']\n",
      " [6.9 3.1 4.9 1.5 'Versicolor']\n",
      " [4.9 3.6 1.4 0.1 'Setosa']\n",
      " [5.2 3.4 1.4 0.2 'Setosa']\n",
      " [4.9 3.1 1.5 0.2 'Setosa']\n",
      " [6.7 2.5 5.8 1.8 'Virginica']\n",
      " [5.7 3.0 4.2 1.2 'Versicolor']\n",
      " [5.8 4.0 1.2 0.2 'Setosa']\n",
      " [6.1 2.6 5.6 1.4 'Virginica']\n",
      " [5.4 3.4 1.5 0.4 'Setosa']\n",
      " [5.9 3.0 5.1 1.8 'Virginica']\n",
      " [7.7 2.6 6.9 2.3 'Virginica']\n",
      " [7.3 2.9 6.3 1.8 'Virginica']\n",
      " [6.3 2.7 4.9 1.8 'Virginica']\n",
      " [5.6 3.0 4.1 1.3 'Versicolor']\n",
      " [6.1 2.8 4.0 1.3 'Versicolor']\n",
      " [6.0 2.7 5.1 1.6 'Versicolor']\n",
      " [5.6 2.7 4.2 1.3 'Versicolor']\n",
      " [5.2 2.7 3.9 1.4 'Versicolor']\n",
      " [6.3 3.3 6.0 2.5 'Virginica']\n",
      " [5.4 3.9 1.7 0.4 'Setosa']\n",
      " [6.3 2.5 4.9 1.5 'Versicolor']\n",
      " [6.1 2.9 4.7 1.4 'Versicolor']\n",
      " [6.7 3.3 5.7 2.5 'Virginica']\n",
      " [5.9 3.2 4.8 1.8 'Versicolor']\n",
      " [6.7 3.1 4.4 1.4 'Versicolor']\n",
      " [6.3 2.3 4.4 1.3 'Versicolor']]\n"
     ]
    }
   ],
   "source": [
    "import pandas as pd \n",
    "from sklearn.model_selection import train_test_split \n",
    " \n",
    "df = pd.read_csv(\"iris.csv\") \n",
    " \n",
    "(train_set, test_set) = train_test_split(df.values, train_size=0.7, random_state=2137)\n",
    "\n",
    "print(train_set)\n",
    "print(test_set)\n",
    "\n",
    "train_inputs = train_set[:, 0:4]\n",
    "train_classes = train_set[:, 4]\n",
    "test_inputs = test_set[:, 0:4]\n",
    "test_classes = test_set[:, 4]"
   ]
  },
  {
   "cell_type": "code",
   "execution_count": 69,
   "metadata": {},
   "outputs": [
    {
     "name": "stdout",
     "output_type": "stream",
     "text": [
      "0.9333333333333333\n",
      "[[14  0  0]\n",
      " [ 0 15  3]\n",
      " [ 0  0 13]]\n"
     ]
    }
   ],
   "source": [
    "from sklearn.naive_bayes import GaussianNB\n",
    "from sklearn.neighbors import KNeighborsClassifier\n",
    "from sklearn.metrics import confusion_matrix\n",
    "\n",
    "\n",
    "KNN3_clf = KNeighborsClassifier(n_neighbors=3)\n",
    "KNN3_clf.fit(train_inputs, train_classes)\n",
    "\n",
    "print(KNN3_clf.score(test_inputs, test_classes))\n",
    "print(confusion_matrix(test_classes, KNN3_clf.predict(test_inputs)))\n"
   ]
  },
  {
   "cell_type": "code",
   "execution_count": 70,
   "metadata": {},
   "outputs": [
    {
     "name": "stdout",
     "output_type": "stream",
     "text": [
      "0.9333333333333333\n",
      "[[14  0  0]\n",
      " [ 0 15  3]\n",
      " [ 0  0 13]]\n"
     ]
    }
   ],
   "source": [
    "KNN5_clf = KNeighborsClassifier(n_neighbors=5)\n",
    "KNN5_clf.fit(train_inputs, train_classes)\n",
    "\n",
    "print(KNN5_clf.score(test_inputs, test_classes))\n",
    "print(confusion_matrix(test_classes, KNN5_clf.predict(test_inputs)))"
   ]
  },
  {
   "cell_type": "code",
   "execution_count": 71,
   "metadata": {},
   "outputs": [
    {
     "name": "stdout",
     "output_type": "stream",
     "text": [
      "0.9333333333333333\n",
      "[[14  0  0]\n",
      " [ 0 15  3]\n",
      " [ 0  0 13]]\n"
     ]
    }
   ],
   "source": [
    "KNN11_clf = KNeighborsClassifier(n_neighbors=11)\n",
    "KNN11_clf.fit(train_inputs, train_classes)\n",
    "\n",
    "print(KNN11_clf.score(test_inputs, test_classes))\n",
    "print(confusion_matrix(test_classes, KNN11_clf.predict(test_inputs)))"
   ]
  },
  {
   "cell_type": "code",
   "execution_count": 72,
   "metadata": {},
   "outputs": [
    {
     "name": "stdout",
     "output_type": "stream",
     "text": [
      "0.9333333333333333\n",
      "[[14  0  0]\n",
      " [ 0 15  3]\n",
      " [ 0  0 13]]\n"
     ]
    }
   ],
   "source": [
    "naive_b_clf = GaussianNB()\n",
    "naive_b_clf.fit(train_inputs, train_classes)\n",
    "\n",
    "print(naive_b_clf.score(test_inputs, test_classes))\n",
    "print(confusion_matrix(test_classes, naive_b_clf.predict(test_inputs)))\n"
   ]
  },
  {
   "cell_type": "code",
   "execution_count": null,
   "metadata": {},
   "outputs": [],
   "source": []
  }
 ],
 "metadata": {
  "kernelspec": {
   "display_name": "int_obliczeniowa",
   "language": "python",
   "name": "python3"
  },
  "language_info": {
   "codemirror_mode": {
    "name": "ipython",
    "version": 3
   },
   "file_extension": ".py",
   "mimetype": "text/x-python",
   "name": "python",
   "nbconvert_exporter": "python",
   "pygments_lexer": "ipython3",
   "version": "3.12.0"
  }
 },
 "nbformat": 4,
 "nbformat_minor": 2
}
